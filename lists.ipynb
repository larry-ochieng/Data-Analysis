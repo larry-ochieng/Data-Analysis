{
 "cells": [
  {
   "cell_type": "code",
   "execution_count": 3,
   "id": "30ffabb9",
   "metadata": {},
   "outputs": [],
   "source": [
    "countries=('Kenya','Tanzania','Uganda','Mogadishu')"
   ]
  },
  {
   "cell_type": "code",
   "execution_count": 4,
   "id": "3ae9441e",
   "metadata": {},
   "outputs": [
    {
     "data": {
      "text/plain": [
       "('Kenya', 'Tanzania', 'Uganda', 'Mogadishu')"
      ]
     },
     "execution_count": 4,
     "metadata": {},
     "output_type": "execute_result"
    }
   ],
   "source": [
    "countries"
   ]
  },
  {
   "cell_type": "code",
   "execution_count": 6,
   "id": "b065b4f7",
   "metadata": {},
   "outputs": [
    {
     "ename": "AttributeError",
     "evalue": "'tuple' object has no attribute 'remove'",
     "output_type": "error",
     "traceback": [
      "\u001b[1;31m---------------------------------------------------------------------------\u001b[0m",
      "\u001b[1;31mAttributeError\u001b[0m                            Traceback (most recent call last)",
      "\u001b[1;32m~\\AppData\\Local\\Temp\\ipykernel_6956\\76869521.py\u001b[0m in \u001b[0;36m<module>\u001b[1;34m\u001b[0m\n\u001b[1;32m----> 1\u001b[1;33m \u001b[0mcountries\u001b[0m\u001b[1;33m.\u001b[0m\u001b[0mremove\u001b[0m\u001b[1;33m[\u001b[0m\u001b[1;36m0\u001b[0m\u001b[1;33m]\u001b[0m\u001b[1;33m\u001b[0m\u001b[1;33m\u001b[0m\u001b[0m\n\u001b[0m",
      "\u001b[1;31mAttributeError\u001b[0m: 'tuple' object has no attribute 'remove'"
     ]
    }
   ],
   "source": [
    "countries.remove[0]"
   ]
  },
  {
   "cell_type": "code",
   "execution_count": 7,
   "id": "a741b83b",
   "metadata": {},
   "outputs": [
    {
     "data": {
      "text/plain": [
       "('Kenya', 'Tanzania', 'Uganda', 'Mogadishu')"
      ]
     },
     "execution_count": 7,
     "metadata": {},
     "output_type": "execute_result"
    }
   ],
   "source": [
    "countries"
   ]
  },
  {
   "cell_type": "code",
   "execution_count": 9,
   "id": "ebbbab41",
   "metadata": {},
   "outputs": [
    {
     "ename": "TypeError",
     "evalue": "'tuple' object doesn't support item deletion",
     "output_type": "error",
     "traceback": [
      "\u001b[1;31m---------------------------------------------------------------------------\u001b[0m",
      "\u001b[1;31mTypeError\u001b[0m                                 Traceback (most recent call last)",
      "\u001b[1;32m~\\AppData\\Local\\Temp\\ipykernel_6956\\2439275452.py\u001b[0m in \u001b[0;36m<module>\u001b[1;34m\u001b[0m\n\u001b[1;32m----> 1\u001b[1;33m \u001b[1;32mdel\u001b[0m \u001b[0mcountries\u001b[0m\u001b[1;33m[\u001b[0m\u001b[1;36m0\u001b[0m\u001b[1;33m]\u001b[0m\u001b[1;33m\u001b[0m\u001b[1;33m\u001b[0m\u001b[0m\n\u001b[0m",
      "\u001b[1;31mTypeError\u001b[0m: 'tuple' object doesn't support item deletion"
     ]
    }
   ],
   "source": [
    "del countries[0]"
   ]
  },
  {
   "cell_type": "code",
   "execution_count": 10,
   "id": "e023fe71",
   "metadata": {},
   "outputs": [
    {
     "data": {
      "text/plain": [
       "('Kenya', 'Tanzania', 'Uganda', 'Mogadishu')"
      ]
     },
     "execution_count": 10,
     "metadata": {},
     "output_type": "execute_result"
    }
   ],
   "source": [
    "countries"
   ]
  },
  {
   "cell_type": "code",
   "execution_count": 11,
   "id": "987c6990",
   "metadata": {},
   "outputs": [],
   "source": [
    "countries=['Kenya','Uganda','Tanzania','Rwanda','Nigeria']"
   ]
  },
  {
   "cell_type": "code",
   "execution_count": 12,
   "id": "824a61bc",
   "metadata": {},
   "outputs": [
    {
     "data": {
      "text/plain": [
       "['Kenya', 'Uganda', 'Tanzania', 'Rwanda', 'Nigeria']"
      ]
     },
     "execution_count": 12,
     "metadata": {},
     "output_type": "execute_result"
    }
   ],
   "source": [
    "countries"
   ]
  },
  {
   "cell_type": "code",
   "execution_count": 13,
   "id": "ae294a5a",
   "metadata": {},
   "outputs": [],
   "source": [
    "del countries[0]"
   ]
  },
  {
   "cell_type": "code",
   "execution_count": 14,
   "id": "dd45285d",
   "metadata": {},
   "outputs": [
    {
     "data": {
      "text/plain": [
       "['Uganda', 'Tanzania', 'Rwanda', 'Nigeria']"
      ]
     },
     "execution_count": 14,
     "metadata": {},
     "output_type": "execute_result"
    }
   ],
   "source": [
    "countries"
   ]
  },
  {
   "cell_type": "code",
   "execution_count": 18,
   "id": "30478afc",
   "metadata": {},
   "outputs": [],
   "source": [
    "countries.remove('Tanzania')"
   ]
  },
  {
   "cell_type": "code",
   "execution_count": 19,
   "id": "2aa59997",
   "metadata": {},
   "outputs": [
    {
     "data": {
      "text/plain": [
       "['Uganda', 'Rwanda', 'Nigeria']"
      ]
     },
     "execution_count": 19,
     "metadata": {},
     "output_type": "execute_result"
    }
   ],
   "source": [
    "countries"
   ]
  },
  {
   "cell_type": "code",
   "execution_count": 20,
   "id": "561e65c1",
   "metadata": {},
   "outputs": [
    {
     "data": {
      "text/plain": [
       "'Nigeria'"
      ]
     },
     "execution_count": 20,
     "metadata": {},
     "output_type": "execute_result"
    }
   ],
   "source": [
    "countries.pop(-1)"
   ]
  },
  {
   "cell_type": "code",
   "execution_count": 21,
   "id": "9f0b2584",
   "metadata": {},
   "outputs": [
    {
     "data": {
      "text/plain": [
       "['Uganda', 'Rwanda']"
      ]
     },
     "execution_count": 21,
     "metadata": {},
     "output_type": "execute_result"
    }
   ],
   "source": [
    "countries"
   ]
  },
  {
   "cell_type": "code",
   "execution_count": 26,
   "id": "a2f51660",
   "metadata": {},
   "outputs": [],
   "source": [
    "countries.insert(-1,'Zimbabwe')"
   ]
  },
  {
   "cell_type": "code",
   "execution_count": 27,
   "id": "2e771079",
   "metadata": {},
   "outputs": [
    {
     "data": {
      "text/plain": [
       "['Uganda', 'Zimbabwe', 'Rwanda']"
      ]
     },
     "execution_count": 27,
     "metadata": {},
     "output_type": "execute_result"
    }
   ],
   "source": [
    "countries"
   ]
  },
  {
   "cell_type": "code",
   "execution_count": 28,
   "id": "6cb0c18e",
   "metadata": {},
   "outputs": [],
   "source": [
    "countries.append('Zimbabwe')"
   ]
  },
  {
   "cell_type": "code",
   "execution_count": 29,
   "id": "f2829752",
   "metadata": {},
   "outputs": [
    {
     "data": {
      "text/plain": [
       "['Uganda', 'Zimbabwe', 'Rwanda', 'Zimbabwe']"
      ]
     },
     "execution_count": 29,
     "metadata": {},
     "output_type": "execute_result"
    }
   ],
   "source": [
    "countries"
   ]
  }
 ],
 "metadata": {
  "kernelspec": {
   "display_name": "Python 3 (ipykernel)",
   "language": "python",
   "name": "python3"
  },
  "language_info": {
   "codemirror_mode": {
    "name": "ipython",
    "version": 3
   },
   "file_extension": ".py",
   "mimetype": "text/x-python",
   "name": "python",
   "nbconvert_exporter": "python",
   "pygments_lexer": "ipython3",
   "version": "3.9.13"
  }
 },
 "nbformat": 4,
 "nbformat_minor": 5
}
